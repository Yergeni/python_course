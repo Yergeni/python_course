{
 "cells": [
  {
   "cell_type": "code",
   "execution_count": 13,
   "metadata": {},
   "outputs": [],
   "source": [
    "# to clear the board\n",
    "from IPython.display import clear_output\n",
    "\n",
    "ref_board = ['#','1','2','3','4','5','6','7','8','9']\n",
    "main_board = ['#',' ',' ',' ',' ',' ',' ',' ',' ',' ']\n",
    "ref_options = list(range(1,10))\n",
    "ref_winner_x = ['X']*3\n",
    "ref_winner_o = ['O']*3\n",
    "p1_mark = ''\n",
    "p2_mark = ''\n",
    "\n",
    "# print a main_board\n",
    "def display_board_info(board):\n",
    "    print(\" \"+board[7]+\" | \"+board[8]+\" | \"+board[9]+\" \")\n",
    "    print(\"-----------\")\n",
    "    print(\" \"+board[4]+\" | \"+board[5]+\" | \"+board[6]+\" \")\n",
    "    print(\"-----------\")\n",
    "    print(\" \"+board[1]+\" | \"+board[2]+\" | \"+board[3]+\" \")\n",
    "    \n",
    "# print a main_board\n",
    "def display_board(board):\n",
    "    clear_output()\n",
    "    print(\" \"+board[7]+\" | \"+board[8]+\" | \"+board[9]+\" \")\n",
    "    print(\"-----------\")\n",
    "    print(\" \"+board[4]+\" | \"+board[5]+\" | \"+board[6]+\" \")\n",
    "    print(\"-----------\")\n",
    "    print(\" \"+board[1]+\" | \"+board[2]+\" | \"+board[3]+\" \")\n"
   ]
  },
  {
   "cell_type": "code",
   "execution_count": 2,
   "metadata": {},
   "outputs": [],
   "source": [
    "def clear_board(board):\n",
    "    for pos in range(1,10):\n",
    "        board[pos] = ' '"
   ]
  },
  {
   "cell_type": "code",
   "execution_count": 3,
   "metadata": {},
   "outputs": [],
   "source": [
    "def player1_mark():\n",
    "    options = ['X', 'O']\n",
    "    p1_mark = input('Player ONE please enter X or O: ').upper()\n",
    "    \n",
    "    while p1_mark not in options:\n",
    "        p1_mark = input('Please enter a valid option (X or O): ').upper()\n",
    "        \n",
    "    return p1_mark"
   ]
  },
  {
   "cell_type": "code",
   "execution_count": 4,
   "metadata": {},
   "outputs": [],
   "source": [
    "def player2_mark(p1_mark):\n",
    "    p2_mark = ''\n",
    "    if p1_mark == 'X':\n",
    "        p2_mark = 'O'\n",
    "    else:\n",
    "        p2_mark = 'X'\n",
    "        \n",
    "    return p2_mark"
   ]
  },
  {
   "cell_type": "code",
   "execution_count": null,
   "metadata": {},
   "outputs": [],
   "source": []
  },
  {
   "cell_type": "code",
   "execution_count": 14,
   "metadata": {},
   "outputs": [],
   "source": [
    "def game_info():\n",
    "    # Let players know their marks\n",
    "    print('Welcome to Tic Tac Toe')\n",
    "    print(f'Player ONE will be playing with {p1_mark} and Player TWO with {p2_mark}')\n",
    "    \n",
    "    # Show them the board as a reference\n",
    "    print('\\nHere you have a REFERENCE BOARD where the numbers corresponds to the positions.\\n')\n",
    "    display_board_info(ref_board)\n",
    "    print('\\n')"
   ]
  },
  {
   "cell_type": "code",
   "execution_count": 6,
   "metadata": {},
   "outputs": [],
   "source": [
    "# game_info()"
   ]
  },
  {
   "cell_type": "code",
   "execution_count": 7,
   "metadata": {},
   "outputs": [],
   "source": [
    "def player1_input():\n",
    "    # Ask Player1 for his/her move and show the board updated\n",
    "    p1 = 0\n",
    "    \n",
    "    # Validate input (verify vs strings)\n",
    "    while p1 not in ref_options:\n",
    "        p1 = int(input('Player ONE turn. Please enter a valid option between 1-9: '))\n",
    "    \n",
    "    while main_board[p1] != ' ':\n",
    "        p1 = int(input('This position is already taken. Please enter a new position: '))\n",
    "    \n",
    "    return p1"
   ]
  },
  {
   "cell_type": "code",
   "execution_count": 8,
   "metadata": {},
   "outputs": [],
   "source": [
    "def player2_input():\n",
    "    # Ask Player2 for his/her move and show the board updated\n",
    "    p2 = 0\n",
    "    \n",
    "    # Validate input (verify vs strings)\n",
    "    while p2 not in ref_options:\n",
    "        p2 = int(input('Player TWO turn. Please enter a valid option between 1-9: '))\n",
    "    \n",
    "    while main_board[p2] != ' ':\n",
    "        p2 = int(input('This position is already taken. Please enter a new position: '))\n",
    "    \n",
    "    return p2"
   ]
  },
  {
   "cell_type": "code",
   "execution_count": 9,
   "metadata": {},
   "outputs": [],
   "source": [
    "# Check winner and return a flag to compare later\n",
    "def check_winner(board, ref_o, ref_x, p1_mark, p2_mark):\n",
    "    win = 0\n",
    "    rows = [board[1:4], board[4:7], board[7:], board[1:8:3], board[2:9:3], board[3::3], board[1::4], board[3:8:2]]\n",
    "    for row in rows:\n",
    "        if row == ref_x and p1_mark in ref_x or row == ref_o and p1_mark in ref_o:\n",
    "            win += 1\n",
    "        elif row == ref_x and p2_mark in ref_x or row == ref_o and p2_mark in ref_o:\n",
    "            win += 2\n",
    "            \n",
    "    return win"
   ]
  },
  {
   "cell_type": "code",
   "execution_count": 10,
   "metadata": {},
   "outputs": [],
   "source": [
    "# Asking if players want to start again\n",
    "def play_again(tie, win):\n",
    "    if tie or win:\n",
    "        play_again = ''\n",
    "        while play_again not in ['Y','N']:\n",
    "            play_again = input('Would you like to play again? (Type \"Y\" or \"N\"): ').upper()\n",
    "            if play_again == 'Y':\n",
    "                game()\n",
    "            else:\n",
    "                return 'Game ended. :('"
   ]
  },
  {
   "cell_type": "code",
   "execution_count": 17,
   "metadata": {},
   "outputs": [],
   "source": [
    "def game():\n",
    "    # clear board before game start\n",
    "    clear_board(main_board)\n",
    "    game_info()\n",
    "\n",
    "    # get input marks from players and save it GOLBALLY\n",
    "    p1_mark = player1_mark()\n",
    "    p2_mark = player2_mark(p1_mark)\n",
    "    \n",
    "    \n",
    "    # flag to check if there is a winner\n",
    "    won = False\n",
    "    # flag to check if game finished tie   \n",
    "    tied = False\n",
    "    \n",
    "    # loop to control the movements\n",
    "    for move in range(1,5):\n",
    "        # show some helpfull info\n",
    "        \n",
    "        print(f'\\nStage No. {move}')\n",
    "        # ask for player 1 move\n",
    "        p1 = player1_input()\n",
    "        # assign the position in board\n",
    "        main_board[p1] = p1_mark\n",
    "        # show the position in board\n",
    "        display_board(main_board)\n",
    "        \n",
    "        #check for winner after every move and send message if one of the players won\n",
    "        if check_winner(main_board, ref_winner_o, ref_winner_x, p1_mark, p2_mark) == 1:\n",
    "            won = True\n",
    "            print('CONGRATULATIONS!!! Player ONE won...')\n",
    "            break\n",
    "        elif check_winner(main_board, ref_winner_o, ref_winner_x, p1_mark, p2_mark) == 2:\n",
    "            won = True\n",
    "            print('CONGRATULATIONS!!! Player TWO won...')\n",
    "            break\n",
    "        \n",
    "        print(f'\\nStage No. {move}')\n",
    "        p2 = player2_input()\n",
    "        main_board[p2] = p2_mark\n",
    "        display_board(main_board)\n",
    "    \n",
    "        #check for winner after every move and send message if one of the players won\n",
    "        if check_winner(main_board, ref_winner_o, ref_winner_x, p1_mark, p2_mark) == 1:\n",
    "            won = True\n",
    "            print('CONGRATULATIONS!!! Player ONE won...')\n",
    "            break\n",
    "        elif check_winner(main_board, ref_winner_o, ref_winner_x, p1_mark, p2_mark) == 2:\n",
    "            won = True\n",
    "            print('CONGRATULATIONS!!! Player TWO won...')\n",
    "            break\n",
    "            \n",
    "#         clear_output()\n",
    "        \n",
    "        \n",
    "    # last move belogns to player1 in case not winner at this point\n",
    "    if not won:\n",
    "        print(f'\\nStage No. {move}')\n",
    "        p1 = player1_input()\n",
    "        main_board[p1] = p1_mark\n",
    "        display_board(main_board)\n",
    "\n",
    "        #check for winner after every move and send message if one of the players won\n",
    "        if check_winner(main_board, ref_winner_o, ref_winner_x, p1_mark, p2_mark) == 1:\n",
    "            won = True\n",
    "            print('CONGRATULATIONS!!! Player ONE won...')\n",
    "        elif check_winner(main_board, ref_winner_o, ref_winner_x, p1_mark, p2_mark) == 2:\n",
    "            won = True\n",
    "            print('CONGRATULATIONS!!! Player TWO won...')\n",
    "        else:\n",
    "            print('Math TIED!!!')\n",
    "            tied = True\n",
    "    \n",
    "    # Ask to start a new game if game was tied\n",
    "    play_again(tied, won)\n",
    "    "
   ]
  },
  {
   "cell_type": "code",
   "execution_count": 18,
   "metadata": {},
   "outputs": [
    {
     "name": "stdout",
     "output_type": "stream",
     "text": [
      " O | X | O \n",
      "-----------\n",
      " O | O | X \n",
      "-----------\n",
      " X | O | X \n",
      "Math TIED!!!\n",
      "Would you like to play again? (Type \"Y\" or \"N\"): n\n"
     ]
    }
   ],
   "source": [
    "game()"
   ]
  },
  {
   "cell_type": "code",
   "execution_count": null,
   "metadata": {},
   "outputs": [],
   "source": []
  },
  {
   "cell_type": "code",
   "execution_count": null,
   "metadata": {},
   "outputs": [],
   "source": []
  }
 ],
 "metadata": {
  "kernelspec": {
   "display_name": "Python 3",
   "language": "python",
   "name": "python3"
  },
  "language_info": {
   "codemirror_mode": {
    "name": "ipython",
    "version": 3
   },
   "file_extension": ".py",
   "mimetype": "text/x-python",
   "name": "python",
   "nbconvert_exporter": "python",
   "pygments_lexer": "ipython3",
   "version": "3.6.5"
  }
 },
 "nbformat": 4,
 "nbformat_minor": 2
}
